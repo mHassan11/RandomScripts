{
  "nbformat": 4,
  "nbformat_minor": 0,
  "metadata": {
    "colab": {
      "name": "EDA_twitter_immunity_proj.ipynb",
      "provenance": [],
      "authorship_tag": "ABX9TyOxNis/gN9Nb7X14KW4mmHh"
    },
    "kernelspec": {
      "name": "python3",
      "display_name": "Python 3"
    }
  },
  "cells": [
    {
      "cell_type": "markdown",
      "metadata": {
        "id": "R_elNrIaRu97",
        "colab_type": "text"
      },
      "source": [
        "# Mount Drive and Directory"
      ]
    },
    {
      "cell_type": "code",
      "metadata": {
        "id": "6jD_mqfTPYMY",
        "colab_type": "code",
        "colab": {
          "base_uri": "https://localhost:8080/",
          "height": 124
        },
        "outputId": "78b65756-52ca-412b-f596-89e846f4cc1b"
      },
      "source": [
        "from google.colab import drive\n",
        "drive.mount('/content/gdrive')"
      ],
      "execution_count": null,
      "outputs": [
        {
          "output_type": "stream",
          "text": [
            "Go to this URL in a browser: https://accounts.google.com/o/oauth2/auth?client_id=947318989803-6bn6qk8qdgf4n4g3pfee6491hc0brc4i.apps.googleusercontent.com&redirect_uri=urn%3aietf%3awg%3aoauth%3a2.0%3aoob&scope=email%20https%3a%2f%2fwww.googleapis.com%2fauth%2fdocs.test%20https%3a%2f%2fwww.googleapis.com%2fauth%2fdrive%20https%3a%2f%2fwww.googleapis.com%2fauth%2fdrive.photos.readonly%20https%3a%2f%2fwww.googleapis.com%2fauth%2fpeopleapi.readonly&response_type=code\n",
            "\n",
            "Enter your authorization code:\n",
            "··········\n",
            "Mounted at /content/gdrive\n"
          ],
          "name": "stdout"
        }
      ]
    },
    {
      "cell_type": "code",
      "metadata": {
        "id": "FE7Bm_i0QjdV",
        "colab_type": "code",
        "colab": {}
      },
      "source": [
        "file_directory = \"/content/gdrive/My Drive/Twitter Immunity Project/data_collection\""
      ],
      "execution_count": null,
      "outputs": []
    },
    {
      "cell_type": "markdown",
      "metadata": {
        "id": "XtvrpVjSRpBN",
        "colab_type": "text"
      },
      "source": [
        "# Import Libraries"
      ]
    },
    {
      "cell_type": "code",
      "metadata": {
        "id": "0Xhk6xC8WVlf",
        "colab_type": "code",
        "colab": {}
      },
      "source": [
        "import pandas as pd\n",
        "import matplotlib\n",
        "import os\n",
        "from tqdm import tqdm\n",
        "import numpy as np"
      ],
      "execution_count": null,
      "outputs": []
    },
    {
      "cell_type": "markdown",
      "metadata": {
        "id": "dP_oklm5RmAN",
        "colab_type": "text"
      },
      "source": [
        "## Read All Files into a DF"
      ]
    },
    {
      "cell_type": "code",
      "metadata": {
        "id": "xHFzvUohRSEm",
        "colab_type": "code",
        "colab": {
          "base_uri": "https://localhost:8080/",
          "height": 34
        },
        "outputId": "dbc4ff22-60db-437e-c6b3-56e746187302"
      },
      "source": [
        "# all_files = os.listdir(file_directory)\n",
        "# len(all_files)"
      ],
      "execution_count": null,
      "outputs": [
        {
          "output_type": "execute_result",
          "data": {
            "text/plain": [
              "45"
            ]
          },
          "metadata": {
            "tags": []
          },
          "execution_count": 4
        }
      ]
    },
    {
      "cell_type": "code",
      "metadata": {
        "id": "2gbqdrarWsKc",
        "colab_type": "code",
        "colab": {
          "base_uri": "https://localhost:8080/",
          "height": 34
        },
        "outputId": "358dbff4-9bb9-4d6b-9d4e-5f87e6d5464f"
      },
      "source": [
        "# df_list = []\n",
        "# customer = {}\n",
        "# # counter = 0\n",
        "# for filename in tqdm(all_files, ncols=100):\n",
        "#   df = pd.read_csv(os.path.join(file_directory, filename))\n",
        "#   df_list.append(df)"
      ],
      "execution_count": null,
      "outputs": [
        {
          "output_type": "stream",
          "text": [
            "100%|███████████████████████████████████████████████████████████████| 45/45 [00:30<00:00,  1.46it/s]\n"
          ],
          "name": "stderr"
        }
      ]
    },
    {
      "cell_type": "code",
      "metadata": {
        "id": "R-nKP9IOW184",
        "colab_type": "code",
        "colab": {
          "base_uri": "https://localhost:8080/",
          "height": 34
        },
        "outputId": "8aee3c77-84d1-4704-b9d7-abfad0d4f53b"
      },
      "source": [
        "df = pd.concat(df_list)\n",
        "df.head()\n",
        "len(df['username'].unique())"
      ],
      "execution_count": null,
      "outputs": [
        {
          "output_type": "execute_result",
          "data": {
            "text/plain": [
              "26"
            ]
          },
          "metadata": {
            "tags": []
          },
          "execution_count": 7
        }
      ]
    },
    {
      "cell_type": "markdown",
      "metadata": {
        "id": "qcRBHijFXZU6",
        "colab_type": "text"
      },
      "source": [
        "Read a file into df"
      ]
    },
    {
      "cell_type": "code",
      "metadata": {
        "id": "oeUAA14zXIFc",
        "colab_type": "code",
        "colab": {
          "base_uri": "https://localhost:8080/",
          "height": 293
        },
        "outputId": "6261ab1d-758e-483c-af50-ead41b2e77ca"
      },
      "source": [
        "# temp_df = pd.read_csv(\"/content/gdrive/My Drive/Twitter Immunity Project/data_collection/fawadchaudhry.csv\")\n",
        "# temp_df['date'] = temp_df['date'].astype('datetime64[ns]')\n",
        "# temp_df = temp_df.sort_values('date')\n",
        "# temp_df.dtypes\n",
        "temp_df.head()"
      ],
      "execution_count": null,
      "outputs": [
        {
          "output_type": "execute_result",
          "data": {
            "text/html": [
              "<div>\n",
              "<style scoped>\n",
              "    .dataframe tbody tr th:only-of-type {\n",
              "        vertical-align: middle;\n",
              "    }\n",
              "\n",
              "    .dataframe tbody tr th {\n",
              "        vertical-align: top;\n",
              "    }\n",
              "\n",
              "    .dataframe thead th {\n",
              "        text-align: right;\n",
              "    }\n",
              "</style>\n",
              "<table border=\"1\" class=\"dataframe\">\n",
              "  <thead>\n",
              "    <tr style=\"text-align: right;\">\n",
              "      <th></th>\n",
              "      <th>date</th>\n",
              "      <th>username</th>\n",
              "      <th>to</th>\n",
              "      <th>replies</th>\n",
              "      <th>retweets</th>\n",
              "      <th>favorites</th>\n",
              "      <th>text</th>\n",
              "      <th>geo</th>\n",
              "      <th>mentions</th>\n",
              "      <th>hashtags</th>\n",
              "      <th>id</th>\n",
              "      <th>permalink</th>\n",
              "    </tr>\n",
              "  </thead>\n",
              "  <tbody>\n",
              "    <tr>\n",
              "      <th>596</th>\n",
              "      <td>2020-01-31 06:28:30</td>\n",
              "      <td>fawadchaudhry</td>\n",
              "      <td>NaN</td>\n",
              "      <td>315</td>\n",
              "      <td>628</td>\n",
              "      <td>5868</td>\n",
              "      <td>سائنس اور ٹیکنالوجی میں 1970 کی دھائ تک پاکستا...</td>\n",
              "      <td>NaN</td>\n",
              "      <td>NaN</td>\n",
              "      <td>NaN</td>\n",
              "      <td>1223130921274167296</td>\n",
              "      <td>https://twitter.com/fawadchaudhry/status/12231...</td>\n",
              "    </tr>\n",
              "    <tr>\n",
              "      <th>595</th>\n",
              "      <td>2020-01-31 06:28:32</td>\n",
              "      <td>fawadchaudhry</td>\n",
              "      <td>NaN</td>\n",
              "      <td>39</td>\n",
              "      <td>194</td>\n",
              "      <td>1736</td>\n",
              "      <td>یہ نہیں ہوا، اب پوری کوشش ہے کہ ایسا نظام تشکی...</td>\n",
              "      <td>NaN</td>\n",
              "      <td>NaN</td>\n",
              "      <td>NaN</td>\n",
              "      <td>1223130925971668992</td>\n",
              "      <td>https://twitter.com/fawadchaudhry/status/12231...</td>\n",
              "    </tr>\n",
              "    <tr>\n",
              "      <th>594</th>\n",
              "      <td>2020-01-31 06:28:32</td>\n",
              "      <td>fawadchaudhry</td>\n",
              "      <td>NaN</td>\n",
              "      <td>78</td>\n",
              "      <td>187</td>\n",
              "      <td>1755</td>\n",
              "      <td>ایسے ٹیکس سٹرکچر کی سفارش کی ہے کہ دینا بھر سے...</td>\n",
              "      <td>NaN</td>\n",
              "      <td>NaN</td>\n",
              "      <td>NaN</td>\n",
              "      <td>1223130928299507712</td>\n",
              "      <td>https://twitter.com/fawadchaudhry/status/12231...</td>\n",
              "    </tr>\n",
              "    <tr>\n",
              "      <th>593</th>\n",
              "      <td>2020-01-31 15:04:37</td>\n",
              "      <td>fawadchaudhry</td>\n",
              "      <td>NaN</td>\n",
              "      <td>1266</td>\n",
              "      <td>1087</td>\n",
              "      <td>11486</td>\n",
              "      <td>Waooow #PakUnder19Team is in Semi finals, 4 Fe...</td>\n",
              "      <td>NaN</td>\n",
              "      <td>NaN</td>\n",
              "      <td>#PakUnder19Team</td>\n",
              "      <td>1223260805325578241</td>\n",
              "      <td>https://twitter.com/fawadchaudhry/status/12232...</td>\n",
              "    </tr>\n",
              "    <tr>\n",
              "      <th>592</th>\n",
              "      <td>2020-02-01 05:08:37</td>\n",
              "      <td>fawadchaudhry</td>\n",
              "      <td>NaN</td>\n",
              "      <td>1130</td>\n",
              "      <td>795</td>\n",
              "      <td>5118</td>\n",
              "      <td>Unable to understand #RSS_Is_Terrorist_Organiz...</td>\n",
              "      <td>NaN</td>\n",
              "      <td>NaN</td>\n",
              "      <td>#RSS_Is_Terrorist_Organization #Endia #Modimad...</td>\n",
              "      <td>1223473203454103552</td>\n",
              "      <td>https://twitter.com/fawadchaudhry/status/12234...</td>\n",
              "    </tr>\n",
              "  </tbody>\n",
              "</table>\n",
              "</div>"
            ],
            "text/plain": [
              "                   date  ...                                          permalink\n",
              "596 2020-01-31 06:28:30  ...  https://twitter.com/fawadchaudhry/status/12231...\n",
              "595 2020-01-31 06:28:32  ...  https://twitter.com/fawadchaudhry/status/12231...\n",
              "594 2020-01-31 06:28:32  ...  https://twitter.com/fawadchaudhry/status/12231...\n",
              "593 2020-01-31 15:04:37  ...  https://twitter.com/fawadchaudhry/status/12232...\n",
              "592 2020-02-01 05:08:37  ...  https://twitter.com/fawadchaudhry/status/12234...\n",
              "\n",
              "[5 rows x 12 columns]"
            ]
          },
          "metadata": {
            "tags": []
          },
          "execution_count": 5
        }
      ]
    },
    {
      "cell_type": "code",
      "metadata": {
        "id": "h9XgBhJEZmFl",
        "colab_type": "code",
        "colab": {}
      },
      "source": [
        "temp_df.head()"
      ],
      "execution_count": null,
      "outputs": []
    },
    {
      "cell_type": "code",
      "metadata": {
        "id": "VhWs7M5n0Orx",
        "colab_type": "code",
        "colab": {
          "base_uri": "https://localhost:8080/",
          "height": 243
        },
        "outputId": "c883e664-dff8-496c-ed4e-451c27c2398b"
      },
      "source": [
        "temp_df.dtypes"
      ],
      "execution_count": null,
      "outputs": [
        {
          "output_type": "execute_result",
          "data": {
            "text/plain": [
              "date         datetime64[ns]\n",
              "username             object\n",
              "to                   object\n",
              "replies               int64\n",
              "retweets              int64\n",
              "favorites             int64\n",
              "text                 object\n",
              "geo                 float64\n",
              "mentions             object\n",
              "hashtags             object\n",
              "id                    int64\n",
              "permalink            object\n",
              "dtype: object"
            ]
          },
          "metadata": {
            "tags": []
          },
          "execution_count": 21
        }
      ]
    },
    {
      "cell_type": "code",
      "metadata": {
        "id": "3kQ9NW8adaVV",
        "colab_type": "code",
        "colab": {}
      },
      "source": [
        "covid_terminology = ['covid', 'corona', 'covid19', 'corona virus', 'coronavirus', 'کرونا', 'کوڈ']\n",
        "covid_hashtag_terminology = []\n",
        "with open('/content/gdrive/My Drive/Twitter Immunity Project/covid_hashtag_terminology.txt') as f:\n",
        "\tcovid_hashtag_terminology = [line.rstrip() for line in f]"
      ],
      "execution_count": null,
      "outputs": []
    },
    {
      "cell_type": "code",
      "metadata": {
        "id": "nGUt2fDKJQKO",
        "colab_type": "code",
        "colab": {}
      },
      "source": [
        "covid_hashtag_terminology"
      ],
      "execution_count": null,
      "outputs": []
    },
    {
      "cell_type": "code",
      "metadata": {
        "id": "0VsZc4vF1LFG",
        "colab_type": "code",
        "colab": {}
      },
      "source": [
        "def isnan(value):\n",
        "    try:\n",
        "        import math\n",
        "        return math.isnan(float(value))\n",
        "    except:\n",
        "        return False"
      ],
      "execution_count": null,
      "outputs": []
    },
    {
      "cell_type": "code",
      "metadata": {
        "id": "dPvQ4TFd3_h2",
        "colab_type": "code",
        "colab": {}
      },
      "source": [
        "# global covid_df\n",
        "# covid_df = pd.DataFrame(columns=['twitter_handle','first_covid_tweet', 'total_tweets', 'covid_tweets', 'total_hashtags', 'covid_hashtags'])"
      ],
      "execution_count": null,
      "outputs": []
    },
    {
      "cell_type": "code",
      "metadata": {
        "id": "pbIyiFRJjNlq",
        "colab_type": "code",
        "colab": {}
      },
      "source": [
        "def get_data(file_dir, covid_df):\n",
        "    # print(file_dir)\n",
        "    # temp_df = pd.read_csv(\"/content/gdrive/My Drive/Twitter Immunity Project/data_collection/fawadchaudhry.csv\")\n",
        "    file_dir1 = os.path.join(file_directory, file_dir)\n",
        "    temp_df = pd.read_csv(file_dir1)\n",
        "    \n",
        "    temp_df['date'] = temp_df['date'].astype('datetime64[ns]')\n",
        "    temp_df = temp_df.sort_values('date')\n",
        "    # covid_df = pd.DataFrame(columns=['id', 'date', 'text', 'hashtags'])\n",
        "\n",
        "    first_date = ''\n",
        "    count = 0\n",
        "    total_hashtags = 0\n",
        "    covid_hashtag_count = 0\n",
        "    # flag = False\n",
        "    for index, row in temp_df.iterrows():\n",
        "        tweet_text = ''\n",
        "        hashtags = ''\n",
        "        flag = False\n",
        "\n",
        "        hashtag_text = row['hashtags']\n",
        "        if(isnan(hashtag_text) or hashtag_text == ''):\n",
        "            hashtag_text = 'empty'\n",
        "        for ht in covid_hashtag_terminology:\n",
        "            if(ht in hashtag_text):\n",
        "                covid_hashtag_count = covid_hashtag_count + 1\n",
        "        \n",
        "        total_hashtags = total_hashtags + (hashtag_text.count('#'))\n",
        "\n",
        "        tweet_text = row['text']\n",
        "        if(isnan(tweet_text) or tweet_text == ''):\n",
        "            tweet_text = 'empty'\n",
        "        flag = [ele for ele in covid_terminology if(ele in tweet_text)]\n",
        "        if(flag):\n",
        "            \n",
        "            first_date = row['date']\n",
        "            # break\n",
        "        if(flag):\n",
        "            count = count + 1\n",
        "    handle_t = (file_dir.split('.'))\n",
        "    twitter_handle = handle_t[0]\n",
        "    # covid_df = covid_df.append({'twitter_handle': twitter_handle,'first_covid_tweet':first_date , 'total_tweets': len(temp_df.index), 'covid_tweets': count, 'total_hashtags': total_hashtags, 'covid_hashtags': covid_hashtag_count}, ignore_index=True)\n",
        "    return twitter_handle, first_date, len(temp_df.index), count, total_hashtags, covid_hashtag_count\n",
        "    # print(first_date)\n",
        "    # print(len(temp_df.index))\n",
        "    # print(count)\n",
        "    # # print(len(covid_df.index))\n",
        "    # print(total_hashtags)\n",
        "    # print(covid_hashtag_count)"
      ],
      "execution_count": null,
      "outputs": []
    },
    {
      "cell_type": "code",
      "metadata": {
        "id": "49QQxhA1jTRG",
        "colab_type": "code",
        "colab": {}
      },
      "source": [
        "all_files = os.listdir(file_directory)\n",
        "len(all_files)\n",
        "\n",
        "covid_df = pd.DataFrame(columns=['twitter_handle','first_covid_tweet', 'total_tweets', 'covid_tweets', 'total_hashtags', 'covid_hashtags'])\n",
        "\n",
        "for filename in all_files:    \n",
        "    twitter_handle, first_date, total_tweet, count, total_hashtags, covid_hashtag_count = get_data(filename, covid_df)\n",
        "    covid_df = covid_df.append({'twitter_handle': twitter_handle,'first_covid_tweet':first_date , 'total_tweets': total_tweet, 'covid_tweets': count, 'total_hashtags': total_hashtags, 'covid_hashtags': covid_hashtag_count}, ignore_index=True)\n"
      ],
      "execution_count": null,
      "outputs": []
    },
    {
      "cell_type": "code",
      "metadata": {
        "id": "7tngtT07MHc4",
        "colab_type": "code",
        "colab": {}
      },
      "source": [
        "covid_df.to_csv(file_directory+'results.csv')"
      ],
      "execution_count": null,
      "outputs": []
    }
  ]
}