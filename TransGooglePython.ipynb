{
  "nbformat": 4,
  "nbformat_minor": 0,
  "metadata": {
    "colab": {
      "name": "TransGooglePython.ipynb",
      "provenance": [],
      "authorship_tag": "ABX9TyN6QR1uc2lK3fnyJnlTcxWN",
      "include_colab_link": true
    },
    "kernelspec": {
      "name": "python3",
      "display_name": "Python 3"
    }
  },
  "cells": [
    {
      "cell_type": "markdown",
      "metadata": {
        "id": "view-in-github",
        "colab_type": "text"
      },
      "source": [
        "<a href=\"https://colab.research.google.com/github/mHassan11/RandomScripts/blob/master/TransGooglePython.ipynb\" target=\"_parent\"><img src=\"https://colab.research.google.com/assets/colab-badge.svg\" alt=\"Open In Colab\"/></a>"
      ]
    },
    {
      "cell_type": "markdown",
      "metadata": {
        "id": "zvHeM3J3e6V1",
        "colab_type": "text"
      },
      "source": [
        "**Importing the necessary packages**"
      ]
    },
    {
      "cell_type": "code",
      "metadata": {
        "id": "p_ZpxnYgAHFD",
        "colab_type": "code",
        "colab": {}
      },
      "source": [
        "!pip3 install googletrans\n",
        "from googletrans import Translator\n",
        "import json\n",
        "\n",
        "from google.colab import drive\n",
        "drive.mount('/content/gdrive')\n",
        "\n",
        "translator = Translator()"
      ],
      "execution_count": 0,
      "outputs": []
    },
    {
      "cell_type": "markdown",
      "metadata": {
        "id": "epRipo9GfEd6",
        "colab_type": "text"
      },
      "source": [
        "**Set file_dir reference for data storage**"
      ]
    },
    {
      "cell_type": "code",
      "metadata": {
        "id": "7RAtkUTXCf1e",
        "colab_type": "code",
        "colab": {}
      },
      "source": [
        "file_directory = \"/content/gdrive/My Drive/Folder XYZ/\""
      ],
      "execution_count": 0,
      "outputs": []
    },
    {
      "cell_type": "markdown",
      "metadata": {
        "id": "RIdbjfemfNtd",
        "colab_type": "text"
      },
      "source": [
        "**Working function/code**"
      ]
    },
    {
      "cell_type": "code",
      "metadata": {
        "id": "4vG5cO1wDCLO",
        "colab_type": "code",
        "colab": {}
      },
      "source": [
        "seed_list_en = ['covid', 'corona', 'flat', 'curv', 'distance', 'mask', 'virus', 'death', 'wuhan', 'CDC', 'doctor', 'WHO',\n",
        "         'N95', 'sinophobia', 'sars_cov', 'lockdown', 'lock', 'pandamic', 'safe', 'quaran', 'quarantine',\n",
        "         'social distan', 'social_distance', 'distancing', 'china', 'pray', 'remote', 'health', 'stay', 'home', 'vacc',\n",
        "         'vaccination', 'immunity', 'immun', 'covid-19', 'hospital', 'indoor', 'ventilator', 'shelter in place',\n",
        "         'self quarantine', 'SARS', 'pandamic', 'epidamic', 'hand wash', 'isolat', 'droplet', 'testing',\n",
        "         'drive through testing', 'cordon sanitaire', 'contact tracing', 'close contact', 'fatality rate', 'emergency',\n",
        "         'remote from work', 'work from home', 'shut down']\n",
        "\n",
        "      \n",
        "\n",
        "lang_list = ['irish', 'spanish', 'swedish', 'turkish', 'russian', 'portuguese', 'dutch', 'italian', 'hebrew', 'hindi', 'german', 'persian', 'french']\n",
        "\n",
        "diction = {}\n",
        "# print(\"here\")\n",
        "for each_lang in lang_list:\n",
        "\tprint(each_lang)\n",
        "\tresult = None\n",
        "\tresult = translator.translate(seed_list_en, src='en', dest=each_lang)\n",
        "    \n",
        "\tres_list = []\n",
        "\tfor each_word in result:\n",
        "\t\tres_list.append(each_word.text)\n",
        "\t    # print(\"'\"+each_word.text+\"',\")\n",
        "\tdiction[each_lang] = res_list\n",
        "\n",
        "print(diction)"
      ],
      "execution_count": 0,
      "outputs": []
    },
    {
      "cell_type": "markdown",
      "metadata": {
        "id": "W6Tst6e5fVBR",
        "colab_type": "text"
      },
      "source": [
        "**Write back to storage**"
      ]
    },
    {
      "cell_type": "code",
      "metadata": {
        "id": "vQ7Ud13LDZVk",
        "colab_type": "code",
        "colab": {}
      },
      "source": [
        "diction['english'] = seed_list_en\n",
        "with open(file_directory+'translated_seed_list.txt', 'w') as file:\n",
        "     file.write(json.dumps(diction))"
      ],
      "execution_count": 0,
      "outputs": []
    },
    {
      "cell_type": "markdown",
      "metadata": {
        "id": "4P_kvJFof1VB",
        "colab_type": "text"
      },
      "source": [
        "**Read back to confirm**"
      ]
    },
    {
      "cell_type": "code",
      "metadata": {
        "id": "n456GqXLE2jR",
        "colab_type": "code",
        "colab": {}
      },
      "source": [
        "f = open(file_directory+'translated_seed_list.txt', 'r')\n",
        "your_dictionary = json.loads(f.read())\n",
        "print(your_dictionary.keys())"
      ],
      "execution_count": 0,
      "outputs": []
    },
    {
      "cell_type": "markdown",
      "metadata": {
        "id": "PfSd55Wef40k",
        "colab_type": "text"
      },
      "source": [
        "**Testing function for one word**"
      ]
    },
    {
      "cell_type": "code",
      "metadata": {
        "id": "5BRwyoaEJ9us",
        "colab_type": "code",
        "colab": {}
      },
      "source": [
        "lang_list = ['irish', 'spanish', 'swedish', 'turkish', 'russian', 'portuguese', 'dutch', 'italian', 'hebrew', 'hindi', 'german', 'persian', 'french']\n",
        "\n",
        "diction = {}\n",
        "\n",
        "for each_lang in lang_list:\n",
        "\tprint(each_lang)\n",
        "\tresult = None\n",
        "\tresult = translator.translate(\"shut down\", src='en', dest=each_lang)\n",
        "    \n",
        "\t\n",
        "\tdiction[each_lang] = result.text\n",
        "diction"
      ],
      "execution_count": 0,
      "outputs": []
    }
  ]
}